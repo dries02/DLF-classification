{
  "cells": [
    {
      "cell_type": "code",
      "execution_count": 71,
      "metadata": {
        "colab": {
          "base_uri": "https://localhost:8080/"
        },
        "id": "bQRfBbc837QV",
        "outputId": "22b1c4d0-d9ed-4c63-9f47-a5c20fe3dcdf"
      },
      "outputs": [],
      "source": [
        "import matplotlib.pyplot as plt\n",
        "import numpy as np\n",
        "from sklearn.metrics import accuracy_score\n",
        "from sklearn.model_selection import GridSearchCV, KFold, train_test_split\n",
        "from sklearn.pipeline import Pipeline\n",
        "from sklearn.preprocessing import MinMaxScaler\n",
        "from sklearn.svm import SVC\n",
        "\n",
        "from utils.preprocessing import Preprocessor"
      ]
    },
    {
      "cell_type": "code",
      "execution_count": 37,
      "metadata": {},
      "outputs": [],
      "source": [
        "def load_train_test():\n",
        "    df = Preprocessor.load_images(dir='data/pngimages/', resize_dims=(64, 64))\n",
        "    return train_test_split(df, test_size=0.2)\n",
        "\n",
        "train_ds, test_ds = load_train_test()"
      ]
    },
    {
      "cell_type": "code",
      "execution_count": 38,
      "metadata": {},
      "outputs": [
        {
          "name": "stdout",
          "output_type": "stream",
          "text": [
            "(12288,)\n"
          ]
        }
      ],
      "source": [
        "print(train_ds['images'][0].shape)"
      ]
    },
    {
      "cell_type": "code",
      "execution_count": 58,
      "metadata": {},
      "outputs": [],
      "source": [
        "steps = [\n",
        "    ('scaler', MinMaxScaler()),\n",
        "    ('clf', SVC(kernel='poly'))\n",
        "]\n",
        "\n",
        "def check_results(cv_results):\n",
        "    # Extract the hyperparameters and corresponding validation scores\n",
        "    params = cv_results['params']\n",
        "    mean_scores = cv_results['mean_test_score']\n",
        "    std_scores = cv_results['std_test_score']\n",
        "\n",
        "    # Combine hyperparameters, mean scores, and std scores into a list of tuples\n",
        "    results = list(zip(params, mean_scores, std_scores))\n",
        "\n",
        "    # Sort the results based on mean scores in descending order\n",
        "    results.sort(key=lambda x: x[1], reverse=True)\n",
        "\n",
        "    # Display the top 5 best hyperparameters and their mean and standard deviation of predictions\n",
        "    print(\"Top 5 Best Hyperparameters:\")\n",
        "    for i in range(5):\n",
        "        params, mean_score, std_score = results[i]\n",
        "        print(f\"Hyperparameters: {params}, Mean Score: {mean_score:.4f}, Std Score: {std_score:.4f}\")\n",
        "\n",
        "def check_grid(param_grid):\n",
        "    pipeline = Pipeline(steps)\n",
        "    kfold = KFold(n_splits=5)\n",
        "\n",
        "    grid_search = GridSearchCV(pipeline, param_grid, cv=kfold, n_jobs=-1)\n",
        "    grid_search.fit(train_ds['images'].to_list(), train_ds['labels'])\n",
        "    check_results(grid_search.cv_results_)"
      ]
    },
    {
      "cell_type": "code",
      "execution_count": 59,
      "metadata": {},
      "outputs": [
        {
          "name": "stdout",
          "output_type": "stream",
          "text": [
            "Top 5 Best Hyperparameters:\n",
            "Hyperparameters: {'clf__C': 0.1, 'clf__degree': 4}, Mean Score: 0.9044, Std Score: 0.0096\n",
            "Hyperparameters: {'clf__C': 1, 'clf__degree': 4}, Mean Score: 0.9044, Std Score: 0.0096\n",
            "Hyperparameters: {'clf__C': 2, 'clf__degree': 4}, Mean Score: 0.9044, Std Score: 0.0096\n",
            "Hyperparameters: {'clf__C': 5, 'clf__degree': 4}, Mean Score: 0.9044, Std Score: 0.0096\n",
            "Hyperparameters: {'clf__C': 1, 'clf__degree': 2}, Mean Score: 0.9022, Std Score: 0.0130\n"
          ]
        }
      ],
      "source": [
        "param_grid = {\n",
        "    'clf__degree': [1, 2, 3, 4],\n",
        "    'clf__C': [0.001, 0.01, 0.1, 1, 2, 5],\n",
        "}\n",
        "check_grid(param_grid)"
      ]
    },
    {
      "cell_type": "code",
      "execution_count": 64,
      "metadata": {},
      "outputs": [
        {
          "name": "stdout",
          "output_type": "stream",
          "text": [
            "Test accuracy: 0.8844444444444445\n"
          ]
        }
      ],
      "source": [
        "final_clf = SVC(\n",
        "    kernel='poly', # pilot runs\n",
        "    degree=4, # from tuning\n",
        "    C=1 # default / from tuning\n",
        ")\n",
        "\n",
        "final_clf.fit(train_ds['images'].to_list(), train_ds['labels'])\n",
        "y_pred = final_clf.predict(test_ds['images'].to_list())\n",
        "print('Test accuracy:', accuracy_score(test_ds['labels'], y_pred))"
      ]
    }
  ],
  "metadata": {
    "accelerator": "GPU",
    "colab": {
      "gpuType": "T4",
      "provenance": []
    },
    "kernelspec": {
      "display_name": "Python 3",
      "name": "python3"
    },
    "language_info": {
      "codemirror_mode": {
        "name": "ipython",
        "version": 3
      },
      "file_extension": ".py",
      "mimetype": "text/x-python",
      "name": "python",
      "nbconvert_exporter": "python",
      "pygments_lexer": "ipython3",
      "version": "3.11.6"
    }
  },
  "nbformat": 4,
  "nbformat_minor": 0
}
