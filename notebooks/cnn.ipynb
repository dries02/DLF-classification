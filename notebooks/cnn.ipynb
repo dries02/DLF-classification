{
 "cells": [
  {
   "cell_type": "code",
   "execution_count": 69,
   "metadata": {},
   "outputs": [],
   "source": [
    "from tensorflow import keras\n",
    "from keras.optimizers import Adam\n",
    "from keras import layers\n",
    "from random import randint\n",
    "import keras_tuner as kt"
   ]
  },
  {
   "cell_type": "markdown",
   "metadata": {},
   "source": [
    "# Prepare the dataset"
   ]
  },
  {
   "cell_type": "code",
   "execution_count": 65,
   "metadata": {},
   "outputs": [
    {
     "name": "stdout",
     "output_type": "stream",
     "text": [
      "Found 1125 files belonging to 15 classes.\n",
      "Using 900 files for training.\n",
      "Using 225 files for validation.\n"
     ]
    }
   ],
   "source": [
    "def prepare_datasets():\n",
    "    train_ds, test_ds = keras.utils.image_dataset_from_directory(\n",
    "        directory='../data/pngimages',\n",
    "        labels='inferred', # Labels are sorted alphanumerically, so 10 comes before 2\n",
    "        subset='both',\n",
    "        seed=randint(0, 2**32),\n",
    "        validation_split=0.2,\n",
    "        image_size=(128, 128),\n",
    "        color_mode='rgb',\n",
    "    )\n",
    "\n",
    "    reduced_train_ds, val_ds = keras.utils.split_dataset(train_ds, 0.25, shuffle=True) # 0.25 * 0.8 = 0.2, so size of val ds = size of test ds\n",
    "    return reduced_train_ds, val_ds, test_ds\n",
    "\n",
    "train_ds, val_ds, test_ds = prepare_datasets()"
   ]
  },
  {
   "cell_type": "code",
   "execution_count": 92,
   "metadata": {},
   "outputs": [],
   "source": [
    "## Preferably put this in a different module..\n",
    "def build_model(hp):\n",
    "    model = keras.Sequential([\n",
    "        layers.Resizing(128, 128), # This is already handled by the loader\n",
    "        layers.RandomFlip('horizontal'),\n",
    "        layers.Rescaling(1 / 255),\n",
    "        layers.Conv2D(8, 3, input_shape=(128, 128, 3), activation='relu'),\n",
    "        layers.MaxPooling2D(),\n",
    "        layers.Flatten(),\n",
    "        layers.Dense(hp.get('fc_neurons'), activation='relu'),\n",
    "        layers.Dropout(hp.get('dropout_rate')),\n",
    "        layers.Dense(15, activation='softmax')\n",
    "    ])\n",
    "\n",
    "    model.compile(\n",
    "        optimizer=Adam(hp.get('learning_rate')),\n",
    "        loss=keras.losses.SparseCategoricalCrossentropy(),\n",
    "        metrics=['accuracy']\n",
    "    )\n",
    "\n",
    "    return model"
   ]
  },
  {
   "cell_type": "markdown",
   "metadata": {},
   "source": [
    "# Hyperparameter tuning and model training"
   ]
  },
  {
   "cell_type": "code",
   "execution_count": 93,
   "metadata": {},
   "outputs": [
    {
     "name": "stdout",
     "output_type": "stream",
     "text": [
      "Trial 1 Complete [00h 00m 37s]\n",
      "val_loss: 0.8908686637878418\n",
      "\n",
      "Best val_loss So Far: 0.8908686637878418\n",
      "Total elapsed time: 00h 00m 37s\n",
      "\n",
      "Search: Running Trial #2\n",
      "\n",
      "Value             |Best Value So Far |Hyperparameter\n",
      "0.2               |0.2               |dropout_rate\n",
      "0.005             |0.005             |learning_rate\n",
      "128               |64                |fc_neurons\n",
      "\n",
      "Epoch 1/100\n",
      "7/8 [=========================>....] - ETA: 0s - loss: 19.8822 - accuracy: 0.0893"
     ]
    }
   ],
   "source": [
    "hp = kt.HyperParameters()\n",
    "hp.Choice(name='dropout_rate', values = [0.1,0.2])\n",
    "hp.Choice(name='learning_rate', values=[0.001, 0.005])\n",
    "hp.Choice(name='fc_neurons', values=[64, 128])\n",
    "\n",
    "tuner = kt.RandomSearch(\n",
    "    build_model,\n",
    "    objective='val_loss',\n",
    "    max_trials=20,\n",
    "    hyperparameters=hp,\n",
    ")\n",
    "\n",
    "callback = keras.callbacks.EarlyStopping(monitor='val_loss', patience=10)\n",
    "tuner.search(train_ds, epochs=100, validation_data=val_ds, callbacks=[callback])\n",
    "\n",
    "tuner.results_summary()"
   ]
  }
 ],
 "metadata": {
  "kernelspec": {
   "display_name": "Python 3",
   "language": "python",
   "name": "python3"
  },
  "language_info": {
   "codemirror_mode": {
    "name": "ipython",
    "version": 3
   },
   "file_extension": ".py",
   "mimetype": "text/x-python",
   "name": "python",
   "nbconvert_exporter": "python",
   "pygments_lexer": "ipython3",
   "version": "3.11.6"
  }
 },
 "nbformat": 4,
 "nbformat_minor": 2
}
