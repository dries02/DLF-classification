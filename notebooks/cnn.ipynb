{
 "cells": [
  {
   "cell_type": "code",
   "execution_count": 15,
   "metadata": {},
   "outputs": [],
   "source": [
    "from tensorflow import keras\n",
    "from keras import layers\n",
    "from random import randint"
   ]
  },
  {
   "cell_type": "code",
   "execution_count": 56,
   "metadata": {},
   "outputs": [
    {
     "name": "stdout",
     "output_type": "stream",
     "text": [
      "Found 1125 files belonging to 15 classes.\n",
      "Using 900 files for training.\n",
      "Using 225 files for validation.\n"
     ]
    }
   ],
   "source": [
    "train_ds, val_ds = keras.utils.image_dataset_from_directory(\n",
    "    '../data/pngimages',\n",
    "    subset='both',\n",
    "    seed=randint(0, 2**32),\n",
    "    validation_split=0.2,\n",
    "    image_size=(128, 128),\n",
    "    color_mode='rgb'\n",
    ")\n"
   ]
  },
  {
   "cell_type": "code",
   "execution_count": 53,
   "metadata": {},
   "outputs": [],
   "source": [
    "## Preferably put this in a different module..\n",
    "def build_model():\n",
    "    model = keras.Sequential([\n",
    "        # layers.Resizing(128, 128), # This is already handled by the loader\n",
    "        layers.RandomFlip('horizontal'),\n",
    "        layers.Rescaling(1 / 255),\n",
    "        layers.Conv2D(8, 3, input_shape=(128, 128, 3), activation='relu'),\n",
    "        layers.MaxPooling2D(),\n",
    "        layers.Flatten(),\n",
    "        layers.Dense(128, activation='relu'),\n",
    "        layers.Dropout(0.1),\n",
    "        layers.Dense(15, activation='softmax')\n",
    "    ])\n",
    "\n",
    "    model.compile(\n",
    "        optimizer='adam',\n",
    "        loss=keras.losses.SparseCategoricalCrossentropy(),\n",
    "        metrics=['accuracy']\n",
    "    )\n",
    "\n",
    "    return model"
   ]
  },
  {
   "cell_type": "code",
   "execution_count": 54,
   "metadata": {},
   "outputs": [
    {
     "name": "stdout",
     "output_type": "stream",
     "text": [
      "Epoch 1/100\n",
      "29/29 [==============================] - 14s 361ms/step - loss: 3.4322 - accuracy: 0.1789 - val_loss: 2.0466 - val_accuracy: 0.3556\n",
      "Epoch 2/100\n",
      "29/29 [==============================] - 13s 349ms/step - loss: 1.7671 - accuracy: 0.4356 - val_loss: 1.4816 - val_accuracy: 0.5467\n",
      "Epoch 3/100\n",
      "29/29 [==============================] - 13s 339ms/step - loss: 1.2296 - accuracy: 0.6322 - val_loss: 1.2536 - val_accuracy: 0.5956\n",
      "Epoch 4/100\n",
      "29/29 [==============================] - 13s 336ms/step - loss: 1.0403 - accuracy: 0.6911 - val_loss: 0.9208 - val_accuracy: 0.6933\n",
      "Epoch 5/100\n",
      "29/29 [==============================] - 13s 340ms/step - loss: 0.8047 - accuracy: 0.7556 - val_loss: 0.7298 - val_accuracy: 0.7600\n",
      "Epoch 6/100\n",
      "29/29 [==============================] - 13s 343ms/step - loss: 0.6635 - accuracy: 0.7900 - val_loss: 0.8052 - val_accuracy: 0.7289\n",
      "Epoch 7/100\n",
      "29/29 [==============================] - 13s 337ms/step - loss: 0.5775 - accuracy: 0.8044 - val_loss: 0.8432 - val_accuracy: 0.6933\n",
      "Epoch 8/100\n",
      "29/29 [==============================] - 13s 349ms/step - loss: 0.5719 - accuracy: 0.8100 - val_loss: 0.5792 - val_accuracy: 0.8178\n",
      "Epoch 9/100\n",
      "29/29 [==============================] - 13s 345ms/step - loss: 0.4921 - accuracy: 0.8500 - val_loss: 0.6633 - val_accuracy: 0.7467\n",
      "Epoch 10/100\n",
      "29/29 [==============================] - 13s 338ms/step - loss: 0.4179 - accuracy: 0.8800 - val_loss: 0.7583 - val_accuracy: 0.7644\n",
      "Epoch 11/100\n",
      "29/29 [==============================] - 13s 337ms/step - loss: 0.4677 - accuracy: 0.8544 - val_loss: 0.5996 - val_accuracy: 0.8178\n",
      "Epoch 12/100\n",
      "29/29 [==============================] - 13s 345ms/step - loss: 0.3852 - accuracy: 0.8922 - val_loss: 0.4787 - val_accuracy: 0.8400\n",
      "Epoch 13/100\n",
      "29/29 [==============================] - 13s 347ms/step - loss: 0.3044 - accuracy: 0.9144 - val_loss: 0.5152 - val_accuracy: 0.8178\n",
      "Epoch 14/100\n",
      "29/29 [==============================] - 13s 345ms/step - loss: 0.3502 - accuracy: 0.8989 - val_loss: 0.5079 - val_accuracy: 0.8311\n",
      "Epoch 15/100\n",
      "29/29 [==============================] - 13s 338ms/step - loss: 0.3154 - accuracy: 0.8956 - val_loss: 0.4002 - val_accuracy: 0.8756\n",
      "Epoch 16/100\n",
      "29/29 [==============================] - 13s 343ms/step - loss: 0.2273 - accuracy: 0.9433 - val_loss: 0.4505 - val_accuracy: 0.8222\n",
      "Epoch 17/100\n",
      "29/29 [==============================] - 13s 341ms/step - loss: 0.2431 - accuracy: 0.9311 - val_loss: 0.5496 - val_accuracy: 0.7911\n",
      "Epoch 18/100\n",
      "29/29 [==============================] - 13s 339ms/step - loss: 0.2400 - accuracy: 0.9222 - val_loss: 0.4306 - val_accuracy: 0.8756\n",
      "Epoch 19/100\n",
      "29/29 [==============================] - 12s 335ms/step - loss: 0.2089 - accuracy: 0.9400 - val_loss: 0.3978 - val_accuracy: 0.8489\n",
      "Epoch 20/100\n",
      "29/29 [==============================] - 13s 339ms/step - loss: 0.1817 - accuracy: 0.9433 - val_loss: 0.4176 - val_accuracy: 0.8578\n",
      "Epoch 21/100\n",
      "29/29 [==============================] - 13s 343ms/step - loss: 0.1406 - accuracy: 0.9711 - val_loss: 0.4455 - val_accuracy: 0.8489\n",
      "Epoch 22/100\n",
      "29/29 [==============================] - 14s 370ms/step - loss: 0.1431 - accuracy: 0.9711 - val_loss: 0.4345 - val_accuracy: 0.8578\n",
      "Epoch 23/100\n",
      "29/29 [==============================] - 13s 347ms/step - loss: 0.1332 - accuracy: 0.9644 - val_loss: 0.3987 - val_accuracy: 0.8578\n",
      "Epoch 24/100\n",
      "29/29 [==============================] - 13s 358ms/step - loss: 0.1376 - accuracy: 0.9633 - val_loss: 0.3897 - val_accuracy: 0.8622\n",
      "Epoch 25/100\n",
      "29/29 [==============================] - 13s 347ms/step - loss: 0.1548 - accuracy: 0.9500 - val_loss: 0.3690 - val_accuracy: 0.8711\n",
      "Epoch 26/100\n",
      "29/29 [==============================] - 13s 340ms/step - loss: 0.1422 - accuracy: 0.9578 - val_loss: 0.4179 - val_accuracy: 0.8444\n",
      "Epoch 27/100\n",
      "29/29 [==============================] - 13s 355ms/step - loss: 0.0825 - accuracy: 0.9922 - val_loss: 0.3246 - val_accuracy: 0.8978\n",
      "Epoch 28/100\n",
      "29/29 [==============================] - 13s 351ms/step - loss: 0.0765 - accuracy: 0.9878 - val_loss: 0.3367 - val_accuracy: 0.8844\n",
      "Epoch 29/100\n",
      "29/29 [==============================] - 14s 368ms/step - loss: 0.0775 - accuracy: 0.9878 - val_loss: 0.3990 - val_accuracy: 0.8711\n",
      "Epoch 30/100\n",
      "29/29 [==============================] - 14s 372ms/step - loss: 0.0868 - accuracy: 0.9833 - val_loss: 0.5718 - val_accuracy: 0.8089\n",
      "Epoch 31/100\n",
      "29/29 [==============================] - 13s 339ms/step - loss: 0.1065 - accuracy: 0.9678 - val_loss: 0.3527 - val_accuracy: 0.8844\n",
      "Epoch 32/100\n",
      "29/29 [==============================] - 13s 344ms/step - loss: 0.0782 - accuracy: 0.9844 - val_loss: 0.4847 - val_accuracy: 0.8489\n"
     ]
    }
   ],
   "source": [
    "model = build_model()\n",
    "callback = keras.callbacks.EarlyStopping(monitor='val_loss', patience=5)\n",
    "history = model.fit(\n",
    "    train_ds,\n",
    "    epochs=100,\n",
    "    batch_size=32,\n",
    "    validation_data=val_ds,\n",
    "    callbacks=[callback]\n",
    ")\n"
   ]
  }
 ],
 "metadata": {
  "kernelspec": {
   "display_name": "Python 3",
   "language": "python",
   "name": "python3"
  },
  "language_info": {
   "codemirror_mode": {
    "name": "ipython",
    "version": 3
   },
   "file_extension": ".py",
   "mimetype": "text/x-python",
   "name": "python",
   "nbconvert_exporter": "python",
   "pygments_lexer": "ipython3",
   "version": "3.11.6"
  }
 },
 "nbformat": 4,
 "nbformat_minor": 2
}
