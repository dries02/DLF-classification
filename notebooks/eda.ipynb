{
 "cells": [
  {
   "cell_type": "code",
   "execution_count": 66,
   "metadata": {},
   "outputs": [],
   "source": [
    "import os\n",
    "from PIL import Image\n",
    "import numpy as np\n",
    "import pandas as pd\n",
    "from collections import Counter"
   ]
  },
  {
   "cell_type": "code",
   "execution_count": 55,
   "metadata": {},
   "outputs": [
    {
     "name": "stdout",
     "output_type": "stream",
     "text": [
      "1125\n",
      "(array([[[250, 244, 248],\n",
      "        [250, 241, 249],\n",
      "        [250, 243, 246],\n",
      "        ...,\n",
      "        [244, 240, 244],\n",
      "        [247, 240, 248],\n",
      "        [245, 240, 247]],\n",
      "\n",
      "       [[247, 244, 247],\n",
      "        [250, 245, 247],\n",
      "        [249, 243, 247],\n",
      "        ...,\n",
      "        [241, 240, 248],\n",
      "        [245, 242, 247],\n",
      "        [247, 240, 247]],\n",
      "\n",
      "       [[251, 242, 247],\n",
      "        [247, 241, 247],\n",
      "        [249, 245, 247],\n",
      "        ...,\n",
      "        [242, 240, 244],\n",
      "        [245, 242, 248],\n",
      "        [247, 240, 247]],\n",
      "\n",
      "       ...,\n",
      "\n",
      "       [[255, 251, 255],\n",
      "        [255, 248, 255],\n",
      "        [255, 250, 255],\n",
      "        ...,\n",
      "        [248, 245, 251],\n",
      "        [249, 249, 254],\n",
      "        [252, 247, 253]],\n",
      "\n",
      "       [[255, 250, 255],\n",
      "        [255, 250, 255],\n",
      "        [255, 250, 255],\n",
      "        ...,\n",
      "        [250, 244, 251],\n",
      "        [252, 245, 252],\n",
      "        [251, 246, 251]],\n",
      "\n",
      "       [[255, 251, 255],\n",
      "        [255, 249, 255],\n",
      "        [255, 250, 255],\n",
      "        ...,\n",
      "        [249, 245, 251],\n",
      "        [250, 247, 253],\n",
      "        [252, 247, 253]]], dtype=uint8), 1)\n"
     ]
    }
   ],
   "source": [
    "data = []\n",
    "for directory in os.listdir('../data/'):\n",
    "    label = int(directory[4:])\n",
    "    for imagepath in os.listdir('../data/' + directory):\n",
    "        image = Image.open(os.path.join('../data/', directory + '/'+ imagepath))\n",
    "        data.append((np.asarray(image), label))\n",
    "        image.close()\n",
    "print(len(data))\n",
    "print(data[0])"
   ]
  },
  {
   "cell_type": "code",
   "execution_count": 58,
   "metadata": {},
   "outputs": [
    {
     "data": {
      "text/html": [
       "<div>\n",
       "<style scoped>\n",
       "    .dataframe tbody tr th:only-of-type {\n",
       "        vertical-align: middle;\n",
       "    }\n",
       "\n",
       "    .dataframe tbody tr th {\n",
       "        vertical-align: top;\n",
       "    }\n",
       "\n",
       "    .dataframe thead th {\n",
       "        text-align: right;\n",
       "    }\n",
       "</style>\n",
       "<table border=\"1\" class=\"dataframe\">\n",
       "  <thead>\n",
       "    <tr style=\"text-align: right;\">\n",
       "      <th></th>\n",
       "      <th>images</th>\n",
       "      <th>labels</th>\n",
       "    </tr>\n",
       "  </thead>\n",
       "  <tbody>\n",
       "    <tr>\n",
       "      <th>0</th>\n",
       "      <td>[[[250, 244, 248], [250, 241, 249], [250, 243,...</td>\n",
       "      <td>1</td>\n",
       "    </tr>\n",
       "    <tr>\n",
       "      <th>1</th>\n",
       "      <td>[[[251, 247, 253], [253, 246, 253], [249, 248,...</td>\n",
       "      <td>1</td>\n",
       "    </tr>\n",
       "    <tr>\n",
       "      <th>2</th>\n",
       "      <td>[[[248, 242, 248], [248, 242, 248], [248, 242,...</td>\n",
       "      <td>1</td>\n",
       "    </tr>\n",
       "    <tr>\n",
       "      <th>3</th>\n",
       "      <td>[[[251, 246, 252], [252, 246, 252], [248, 245,...</td>\n",
       "      <td>1</td>\n",
       "    </tr>\n",
       "    <tr>\n",
       "      <th>4</th>\n",
       "      <td>[[[251, 245, 253], [250, 247, 250], [250, 245,...</td>\n",
       "      <td>1</td>\n",
       "    </tr>\n",
       "  </tbody>\n",
       "</table>\n",
       "</div>"
      ],
      "text/plain": [
       "                                              images  labels\n",
       "0  [[[250, 244, 248], [250, 241, 249], [250, 243,...       1\n",
       "1  [[[251, 247, 253], [253, 246, 253], [249, 248,...       1\n",
       "2  [[[248, 242, 248], [248, 242, 248], [248, 242,...       1\n",
       "3  [[[251, 246, 252], [252, 246, 252], [248, 245,...       1\n",
       "4  [[[251, 245, 253], [250, 247, 250], [250, 245,...       1"
      ]
     },
     "execution_count": 58,
     "metadata": {},
     "output_type": "execute_result"
    }
   ],
   "source": [
    "df = pd.DataFrame(images, columns=['images', 'labels'])\n",
    "df.head()"
   ]
  },
  {
   "cell_type": "code",
   "execution_count": 67,
   "metadata": {},
   "outputs": [
    {
     "data": {
      "text/plain": [
       "Counter({1: 75,\n",
       "         10: 75,\n",
       "         11: 75,\n",
       "         12: 75,\n",
       "         13: 75,\n",
       "         14: 75,\n",
       "         15: 75,\n",
       "         2: 75,\n",
       "         3: 75,\n",
       "         4: 75,\n",
       "         5: 75,\n",
       "         6: 75,\n",
       "         7: 75,\n",
       "         8: 75,\n",
       "         9: 75})"
      ]
     },
     "execution_count": 67,
     "metadata": {},
     "output_type": "execute_result"
    }
   ],
   "source": [
    "Counter(df['labels'])"
   ]
  }
 ],
 "metadata": {
  "kernelspec": {
   "display_name": "tensorflow",
   "language": "python",
   "name": "python3"
  },
  "language_info": {
   "codemirror_mode": {
    "name": "ipython",
    "version": 3
   },
   "file_extension": ".py",
   "mimetype": "text/x-python",
   "name": "python",
   "nbconvert_exporter": "python",
   "pygments_lexer": "ipython3",
   "version": "3.10.11"
  }
 },
 "nbformat": 4,
 "nbformat_minor": 2
}
