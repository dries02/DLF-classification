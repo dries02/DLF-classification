{
  "cells": [
    {
      "cell_type": "code",
      "execution_count": 2,
      "metadata": {
        "colab": {
          "base_uri": "https://localhost:8080/"
        },
        "id": "bQRfBbc837QV",
        "outputId": "22b1c4d0-d9ed-4c63-9f47-a5c20fe3dcdf"
      },
      "outputs": [],
      "source": [
        "import os\n",
        "from PIL import Image\n",
        "import numpy as np\n",
        "import pandas as pd\n",
        "import cv2 as cv\n",
        "\n",
        "import tensorflow as tf\n",
        "from tensorflow import keras\n",
        "from keras import layers\n",
        "from sklearn.utils import shuffle\n"
      ]
    },
    {
      "cell_type": "code",
      "execution_count": 3,
      "metadata": {},
      "outputs": [],
      "source": [
        "plant_names = [\n",
        "    \"Ulmus carpinifolia\",\n",
        "    \"Acer\",\n",
        "    \"Salix aurita\",\n",
        "    \"Quercus\",\n",
        "    \"Alnus incana\",\n",
        "    \"Betula pubescens\",\n",
        "    \"Salix alba 'Sericea'\",\n",
        "    \"Populus tremula\",\n",
        "    \"Ulmus glabra\",\n",
        "    \"Sorbus aucuparia\",\n",
        "    \"Salix sinerea\",\n",
        "    \"Populus\",\n",
        "    \"Tilia\",\n",
        "    \"Sorbus intermedia\",\n",
        "    \"Fagus silvatica\"\n",
        "]\n"
      ]
    },
    {
      "cell_type": "code",
      "execution_count": 4,
      "metadata": {
        "id": "davKvTSP4dro"
      },
      "outputs": [],
      "source": [
        "def load_images() -> pd.DataFrame:\n",
        "    data = []\n",
        "    for directory in os.listdir('../data/'):\n",
        "      label = int(directory[4:]) - 1\n",
        "      for imagepath in os.listdir('../data/' + directory):\n",
        "          image = Image.open(os.path.join('../data/', directory + '/'+ imagepath))\n",
        "          new_image = np.array(cv.resize(np.asarray(image),(128, 128)))\n",
        "          data.append((new_image, label))\n",
        "          # data.append(((cv.resize(np.asarray(image),(64,64)).flatten() / 255).astype('float32'), label))\n",
        "          image.close()\n",
        "    return pd.DataFrame(data, columns=['images','labels'])\n",
        "\n",
        "df = load_images()\n",
        "df = shuffle(df)\n"
      ]
    },
    {
      "cell_type": "code",
      "execution_count": 29,
      "metadata": {},
      "outputs": [],
      "source": [
        "def build_model():\n",
        "    model = keras.Sequential([\n",
        "        layers.Rescaling(1 / 255),\n",
        "        layers.Conv2D(4, 3, input_shape=(128, 128, 3), activation='relu'),\n",
        "        layers.MaxPooling2D(),\n",
        "        layers.Flatten(),\n",
        "        layers.Dense(64, activation='relu'),\n",
        "        layers.BatchNormalization(),\n",
        "        layers.Dense(15, activation='softmax')\n",
        "    ])\n",
        "\n",
        "    model.compile(\n",
        "        optimizer='adam',\n",
        "        loss=keras.losses.SparseCategoricalCrossentropy(),\n",
        "        metrics=['accuracy']\n",
        "    )\n",
        "\n",
        "    return model"
      ]
    },
    {
      "cell_type": "code",
      "execution_count": 6,
      "metadata": {},
      "outputs": [],
      "source": [
        "X_train = tf.convert_to_tensor(df['images'].to_list())\n",
        "y_train = tf.convert_to_tensor(df['labels'].to_list())"
      ]
    },
    {
      "cell_type": "code",
      "execution_count": 30,
      "metadata": {},
      "outputs": [
        {
          "name": "stdout",
          "output_type": "stream",
          "text": [
            "Epoch 1/10\n",
            "25/25 [==============================] - 3s 70ms/step - loss: 1.6276 - accuracy: 0.5667 - val_loss: 8.8844 - val_accuracy: 0.1657\n",
            "Epoch 2/10\n",
            "25/25 [==============================] - 2s 66ms/step - loss: 0.9620 - accuracy: 0.8386 - val_loss: 3.5494 - val_accuracy: 0.1006\n",
            "Epoch 3/10\n",
            "25/25 [==============================] - 2s 70ms/step - loss: 0.5771 - accuracy: 0.9263 - val_loss: 3.6814 - val_accuracy: 0.2426\n",
            "Epoch 4/10\n",
            "25/25 [==============================] - 2s 67ms/step - loss: 0.2679 - accuracy: 0.9873 - val_loss: 3.7842 - val_accuracy: 0.1450\n",
            "Epoch 5/10\n",
            "25/25 [==============================] - 2s 69ms/step - loss: 0.1258 - accuracy: 1.0000 - val_loss: 3.8031 - val_accuracy: 0.1982\n",
            "Epoch 6/10\n",
            "25/25 [==============================] - 2s 79ms/step - loss: 0.0809 - accuracy: 1.0000 - val_loss: 2.6949 - val_accuracy: 0.3669\n",
            "Epoch 7/10\n",
            "25/25 [==============================] - 2s 81ms/step - loss: 0.0518 - accuracy: 1.0000 - val_loss: 3.2930 - val_accuracy: 0.2426\n",
            "Epoch 8/10\n",
            "25/25 [==============================] - 2s 93ms/step - loss: 0.0375 - accuracy: 1.0000 - val_loss: 2.2714 - val_accuracy: 0.4024\n",
            "Epoch 9/10\n",
            "25/25 [==============================] - 2s 84ms/step - loss: 0.0307 - accuracy: 1.0000 - val_loss: 1.7051 - val_accuracy: 0.4882\n",
            "Epoch 10/10\n",
            "25/25 [==============================] - 2s 99ms/step - loss: 0.0253 - accuracy: 1.0000 - val_loss: 1.2854 - val_accuracy: 0.6479\n"
          ]
        }
      ],
      "source": [
        "model = build_model()\n",
        "history = model.fit(X_train, y_train, epochs=10, batch_size=32, validation_split=0.3)"
      ]
    }
  ],
  "metadata": {
    "accelerator": "GPU",
    "colab": {
      "gpuType": "T4",
      "provenance": []
    },
    "kernelspec": {
      "display_name": "Python 3",
      "name": "python3"
    },
    "language_info": {
      "codemirror_mode": {
        "name": "ipython",
        "version": 3
      },
      "file_extension": ".py",
      "mimetype": "text/x-python",
      "name": "python",
      "nbconvert_exporter": "python",
      "pygments_lexer": "ipython3",
      "version": "3.11.6"
    }
  },
  "nbformat": 4,
  "nbformat_minor": 0
}
